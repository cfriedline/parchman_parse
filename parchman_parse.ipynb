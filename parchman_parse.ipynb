{
 "metadata": {
  "name": ""
 },
 "nbformat": 3,
 "nbformat_minor": 0,
 "worksheets": [
  {
   "cells": [
    {
     "cell_type": "code",
     "collapsed": false,
     "input": [
      "file_dir = \"/home/cfriedline/eckertlab/bccl.csbc.vcu.edu/internal/Eckert\""
     ],
     "language": "python",
     "metadata": {},
     "outputs": [],
     "prompt_number": 2
    },
    {
     "cell_type": "code",
     "collapsed": false,
     "input": [
      "import os\n",
      "gz_files = []\n",
      "for root, dirs, files in os.walk(file_dir):\n",
      "    for f in files:\n",
      "        if \".gz\" in f:\n",
      "            gz_files.append(os.path.join(root, f))"
     ],
     "language": "python",
     "metadata": {},
     "outputs": [],
     "prompt_number": 3
    },
    {
     "cell_type": "code",
     "collapsed": false,
     "input": [
      "from IPython.parallel import Client"
     ],
     "language": "python",
     "metadata": {},
     "outputs": [],
     "prompt_number": 4
    },
    {
     "cell_type": "code",
     "collapsed": false,
     "input": [
      "rc = Client(profile=\"sge\")\n",
      "print len(rc.ids)\n",
      "#pid map pid_map = rc[:].apply_async(os.getpid).get_dict()\u00e54"
     ],
     "language": "python",
     "metadata": {},
     "outputs": [
      {
       "output_type": "stream",
       "stream": "stdout",
       "text": [
        "20\n"
       ]
      }
     ],
     "prompt_number": 11
    },
    {
     "cell_type": "code",
     "collapsed": false,
     "input": [
      "dview = rc[:] #all nodes\n",
      "lview = rc.load_balanced_view() # for load balancing"
     ],
     "language": "python",
     "metadata": {},
     "outputs": [],
     "prompt_number": 12
    },
    {
     "cell_type": "code",
     "collapsed": false,
     "input": [
      "@dview.remote(block=True)\n",
      "def get_cpu_count():\n",
      "    import multiprocessing as mp\n",
      "    import socket\n",
      "    return socket.gethostname(), mp.cpu_count()\n",
      "cpu_counts = get_cpu_count()\n",
      "from collections import defaultdict\n",
      "cpu_dict = defaultdict(list)\n",
      "for i, c in enumerate(cpu_counts):\n",
      "    if c[1] >= 16:\n",
      "        cpu_dict[c[0]].append(i)  \n",
      "print cpu_dict\n",
      "cview = rc.load_balanced_view(targets=[v[0] for k, v in cpu_dict.items()])"
     ],
     "language": "python",
     "metadata": {},
     "outputs": [
      {
       "output_type": "stream",
       "stream": "stdout",
       "text": [
        "defaultdict(<type 'list'>, {'godel199': [0, 1, 2, 3, 4, 5, 6, 7], 'godel97': [8, 9, 10, 11, 12, 13, 14, 15, 16, 17, 18, 19]})\n"
       ]
      }
     ],
     "prompt_number": 13
    },
    {
     "cell_type": "code",
     "collapsed": false,
     "input": [
      "with dview.sync_imports():\n",
      "    import stopwatch\n",
      "    import numpy\n",
      "    import numpy as np\n",
      "    import scipy\n",
      "    import pandas\n",
      "    import gzip\n",
      "    import os\n",
      "    import tempfile\n",
      "    import shutil\n",
      "    import socket\n",
      "    from Bio.SeqIO.QualityIO import FastqGeneralIterator\n",
      "    from collections import deque, defaultdict\n",
      "    import multiprocessing \n",
      "    from multiprocessing import Pool\n",
      "    import traceback"
     ],
     "language": "python",
     "metadata": {},
     "outputs": [
      {
       "output_type": "stream",
       "stream": "stdout",
       "text": [
        "importing stopwatch on engine(s)\n",
        "importing numpy on engine(s)\n",
        "importing scipy on engine(s)\n",
        "importing pandas on engine(s)"
       ]
      },
      {
       "output_type": "stream",
       "stream": "stdout",
       "text": [
        "\n",
        "importing gzip on engine(s)\n",
        "importing os on engine(s)\n",
        "importing tempfile on engine(s)\n",
        "importing shutil on engine(s)\n",
        "importing socket on engine(s)\n",
        "importing FastqGeneralIterator from Bio.SeqIO.QualityIO on engine(s)"
       ]
      },
      {
       "output_type": "stream",
       "stream": "stdout",
       "text": [
        "\n",
        "importing deque,defaultdict from collections on engine(s)\n",
        "importing multiprocessing on engine(s)\n",
        "importing Pool from multiprocessing on engine(s)\n",
        "importing traceback on engine(s)\n"
       ]
      }
     ],
     "prompt_number": 14
    },
    {
     "cell_type": "code",
     "collapsed": false,
     "input": [
      "def get_num_seqs(f):\n",
      "#     count = 0\n",
      "#     fastq = gzip.open(f)\n",
      "#     for title, seq, qual in FastqGeneralIterator(fastq):    \n",
      "#         count += 1\n",
      "    count = !zgrep -c . $f\n",
      "    return (f, int(count[0])/4)\n",
      "dview['get_num_seqs'] = get_num_seqs"
     ],
     "language": "python",
     "metadata": {},
     "outputs": [],
     "prompt_number": 15
    },
    {
     "cell_type": "code",
     "collapsed": false,
     "input": [
      "#run this if num seqs has been pickled already, instead of the jobs below to save time\n",
      "import pickle\n",
      "seq_nums_pickle = \"num_seq.pickle\"\n",
      "seq_nums = pickle.load(open(seq_nums_pickle))"
     ],
     "language": "python",
     "metadata": {},
     "outputs": [],
     "prompt_number": 16
    },
    {
     "cell_type": "code",
     "collapsed": false,
     "input": [
      "num_seq_jobs = []\n",
      "for f in gz_files:\n",
      "    num_seq_jobs.append(lview.apply_async(get_num_seqs, f))"
     ],
     "language": "python",
     "metadata": {},
     "outputs": []
    },
    {
     "cell_type": "code",
     "collapsed": false,
     "input": [
      "waiting = 0\n",
      "for j in num_seq_jobs:\n",
      "    if j.ready():\n",
      "        print j.r, j.elapsed\n",
      "    else:\n",
      "        print \"**WAITING**\", j.elapsed\n",
      "        waiting += 1\n",
      "print \"waiting: %d\" % waiting"
     ],
     "language": "python",
     "metadata": {},
     "outputs": []
    },
    {
     "cell_type": "code",
     "collapsed": false,
     "input": [
      "seq_nums = {}\n",
      "for j in num_seq_jobs:\n",
      "    if j.ready():\n",
      "        seq_nums[j.r[0]] = j.r"
     ],
     "language": "python",
     "metadata": {},
     "outputs": []
    },
    {
     "cell_type": "code",
     "collapsed": false,
     "input": [
      "import pickle\n",
      "pickle.dump(seq_nums, open(seq_nums_pickle, \"w\"))"
     ],
     "language": "python",
     "metadata": {},
     "outputs": []
    },
    {
     "cell_type": "code",
     "collapsed": false,
     "input": [
      "seq_pairs = []\n",
      "for k, v in seq_nums.items():\n",
      "    if \"read1\" in v[0]:\n",
      "        read2 = v[0].replace(\"read1\", \"read2\")\n",
      "        if os.path.exists(read2):\n",
      "            seq_pairs.append([v, seq_nums[read2]])\n",
      "        else:\n",
      "            seq_pairs.append([v])\n",
      "print seq_pairs"
     ],
     "language": "python",
     "metadata": {},
     "outputs": [
      {
       "output_type": "stream",
       "stream": "stdout",
       "text": [
        "[[('/home/cfriedline/eckertlab/bccl.csbc.vcu.edu/internal/Eckert/HiSeq_130529/PurplePool/lane3_Undetermined_L003_read1.fastq.test.gz', 10000)], [('/home/cfriedline/eckertlab/bccl.csbc.vcu.edu/internal/Eckert/HiSeq_130604/Undetermined/lane2_Undetermined_L002_read1.fastq.gz', 19589695), ('/home/cfriedline/eckertlab/bccl.csbc.vcu.edu/internal/Eckert/HiSeq_130604/Undetermined/lane2_Undetermined_L002_read2.fastq.gz', 19589695)], [('/home/cfriedline/eckertlab/bccl.csbc.vcu.edu/internal/Eckert/FPMom_CTTGTA_L001_read1.fastq.gz', 121872245), ('/home/cfriedline/eckertlab/bccl.csbc.vcu.edu/internal/Eckert/FPMom_CTTGTA_L001_read2.fastq.gz', 121872245)], [('/home/cfriedline/eckertlab/bccl.csbc.vcu.edu/internal/Eckert/HiSeq_130604/Undetermined/lane1_Undetermined_L001_read1.fastq.gz', 20088767), ('/home/cfriedline/eckertlab/bccl.csbc.vcu.edu/internal/Eckert/HiSeq_130604/Undetermined/lane1_Undetermined_L001_read2.fastq.gz', 20088767)], [('/home/cfriedline/eckertlab/bccl.csbc.vcu.edu/internal/Eckert/HiSeq_130529/Blue/lane6_Undetermined_L006_read1.fastq.gz', 173053059)], [('/home/cfriedline/eckertlab/bccl.csbc.vcu.edu/internal/Eckert/HiSeq_130529/RPG/lane4_read1.fastq.gz', 131250110)], [('/home/cfriedline/eckertlab/bccl.csbc.vcu.edu/internal/Eckert/HiSeq_130604/FPMom_CTTGTA_L001_read1.fastq.gz', 121872245), ('/home/cfriedline/eckertlab/bccl.csbc.vcu.edu/internal/Eckert/HiSeq_130604/FPMom_CTTGTA_L001_read2.fastq.gz', 121872245)], [('/home/cfriedline/eckertlab/bccl.csbc.vcu.edu/internal/Eckert/HiSeq_130529/PurplePool/lane3_Undetermined_L003_read1.fastq.gz', 34532658)], [('/home/cfriedline/eckertlab/bccl.csbc.vcu.edu/internal/Eckert/FPDad_GCCAAT_L001_read1.fastq.gz', 98188260), ('/home/cfriedline/eckertlab/bccl.csbc.vcu.edu/internal/Eckert/FPDad_GCCAAT_L001_read2.fastq.gz', 98188260)], [('/home/cfriedline/eckertlab/bccl.csbc.vcu.edu/internal/Eckert/HiSeq_130604/FPDad_GCCAAT_L001_read1.fastq.gz', 98188260), ('/home/cfriedline/eckertlab/bccl.csbc.vcu.edu/internal/Eckert/HiSeq_130604/FPDad_GCCAAT_L001_read2.fastq.gz', 98188260)]]\n"
       ]
      }
     ],
     "prompt_number": 17
    },
    {
     "cell_type": "code",
     "collapsed": false,
     "input": [
      "def process_seqs(seqs):\n",
      "    if len(seqs) == 2:\n",
      "        return process_paired(seqs)\n",
      "    else:\n",
      "        return process_single(seqs)\n",
      "dview['process_seqs'] = process_seqs"
     ],
     "language": "python",
     "metadata": {},
     "outputs": [],
     "prompt_number": 18
    },
    {
     "cell_type": "code",
     "collapsed": false,
     "input": [
      "def process_paired(seqs):\n",
      "    files = [x[0] for x in seqs]\n",
      "    return \"Not implemented\"\n",
      "dview['process_paired'] = process_paired"
     ],
     "language": "python",
     "metadata": {},
     "outputs": [],
     "prompt_number": 19
    },
    {
     "cell_type": "code",
     "collapsed": false,
     "input": [
      "def format_fastq_tuple(title, seq, qual):\n",
      "    assert len(seq) == len(qual)\n",
      "    return \"@%s\\n%s\\n+\\n%s\\n\" % (title, seq, qual)\n",
      "dview['format_fastq_tuple'] = format_fastq_tuple"
     ],
     "language": "python",
     "metadata": {},
     "outputs": [],
     "prompt_number": 20
    },
    {
     "cell_type": "code",
     "collapsed": false,
     "input": [
      "def convert_qual(q):\n",
      "    return ord(q)-33\n",
      "dview['convert_qual'] = convert_qual\n",
      "\n",
      "def get_qual_scores(q):\n",
      "    qual = [ord(x)-33 for x in q] #list comps seems to be fastest here\n",
      "    return numpy.array([qual, numpy.mean(qual)])\n",
      "dview['get_qual_scores'] = get_qual_scores\n",
      "\n",
      "def eval_quality(q):\n",
      "    qual = get_qual_scores(q)\n",
      "    scores = qual[0]\n",
      "    win_size = 5\n",
      "    qual_cutoff = 30\n",
      "    len_cutoff = 0.5\n",
      "    \n",
      "    if qual[1] < qual_cutoff:\n",
      "        return False\n",
      "    \n",
      "    below_cutoff = 0.0\n",
      "    window = deque(maxlen=win_size)\n",
      "    qual_perc_cutoff = 0.20\n",
      "    win_end = win_size\n",
      "    last_good = None\n",
      "    for s in scores:\n",
      "        window.append(s)\n",
      "        if s < qual_cutoff:\n",
      "            below_cutoff += 1 #keep track of scores below the quality cutoff\n",
      "        if len(window) == win_size:\n",
      "            if numpy.mean(window) < qual_cutoff:\n",
      "                if last_good is None:\n",
      "                    last_good = win_end                    \n",
      "                    if float(last_good)/len(scores) < len_cutoff:\n",
      "                        return False    # then it's too short                \n",
      "            win_end += 1 \n",
      "    perc_below = below_cutoff/len(scores)\n",
      "    if last_good:\n",
      "        scores = scores[0:(last_good-1)] #trim the scores if it will be long enough\n",
      "    perc_len = float(len(scores))/len(qual[0])\n",
      "    if perc_below > qual_perc_cutoff:\n",
      "        return False #drop reads if overall bases have quality values < cutoff, even if average is ok\n",
      "    return scores\n",
      "dview['eval_quality'] = eval_quality"
     ],
     "language": "python",
     "metadata": {},
     "outputs": [],
     "prompt_number": 21
    },
    {
     "cell_type": "code",
     "collapsed": false,
     "input": [
      "def split_file(seqs):\n",
      "    d = defaultdict(list)\n",
      "    num_cpu = multiprocessing.cpu_count()\n",
      "    for seq in seqs:\n",
      "        print f\n",
      "        f, num = seq\n",
      "        reads_per_file = float(num)//num_cpu\n",
      "        read_idx = 0\n",
      "        for title, seq, qual in FastqGeneralIterator(gzip.open(f)):\n",
      "            if read_idx == 0:\n",
      "                t = tempfile.NamedTemporaryFile(delete=False)\n",
      "                print socket.gethostname(), t.name, read_idx, \"/\", num_cpu\n",
      "                d[f].append(t)\n",
      "            t.write(format_fastq_tuple(title, seq, qual))\n",
      "            read_idx += 1\n",
      "            \n",
      "            if read_idx == reads_per_file:\n",
      "                read_idx = 0\n",
      "    for k, l in d.items():\n",
      "        [x.close() for x in l]\n",
      "        d[k] = [x.name for x in l]\n",
      "    return d\n",
      "dview['split_file'] = split_file"
     ],
     "language": "python",
     "metadata": {},
     "outputs": [],
     "prompt_number": 61
    },
    {
     "cell_type": "code",
     "collapsed": false,
     "input": [
      "def create_test_file(src, num):\n",
      "    out = src.replace(\"fastq.gz\", \"fastq.test.gz\")\n",
      "    n = 0\n",
      "    with gzip.open(out, \"w\") as o:\n",
      "        for title, seq, qual in FastqGeneralIterator(gzip.open(src)):\n",
      "            o.write(format_fastq_tuple(title, seq, qual))\n",
      "            n += 1\n",
      "            if n == num:\n",
      "                break\n",
      "    return [(out, num)]"
     ],
     "language": "python",
     "metadata": {},
     "outputs": [],
     "prompt_number": 25
    },
    {
     "cell_type": "code",
     "collapsed": false,
     "input": [
      "def process_single_file(f):\n",
      "    tmp = tempfile.NamedTemporaryFile(delete=False)\n",
      "    basename = os.path.basename(f)\n",
      "    count = 0\n",
      "    n = 0\n",
      "    trimmed = 0\n",
      "    for title, seq, qual in FastqGeneralIterator(open(f)):\n",
      "        if seq.startswith(\"N\"):\n",
      "            seq = seq[1:]\n",
      "            qual = qual[1:]\n",
      "            \n",
      "        if not \"N\" in seq:\n",
      "            scores = eval_quality(qual)\n",
      "            if scores:\n",
      "                if len(scores) != len(seq):\n",
      "                    seq = seq[0:len(scores)]\n",
      "                    qual = qual[0:len(scores)]\n",
      "                    trimmed += 1\n",
      "                tmp.write(format_fastq_tuple(title, seq, qual))\n",
      "        else:\n",
      "            n += 1\n",
      "            \n",
      "        count += 1\n",
      "        \n",
      "        if count % 10000 == 0:\n",
      "            print \"%s, %s, %d, %d, %d\" % (socket.gethostname(), basename, count, n, trimmed)\n",
      "    tmp.close()\n",
      "    return tmp.name\n",
      "\n",
      "def collapse_results(source, results):\n",
      "    out = source.replace(\".gz\", \"_processed.fastq\")\n",
      "    temp = tempfile.NamedTemporaryFile(delete=False)\n",
      "    for r in results:\n",
      "        for line in open(r):\n",
      "            temp.write(line)\n",
      "    temp.close()\n",
      "    shutil.copy(temp.name, out)\n",
      "    os.remove(temp.name)\n",
      "    x = [os.remove(x) for x in results]\n",
      "    return out \n",
      "\n",
      "def process_single(seqs):\n",
      "    timer = stopwatch.Timer()\n",
      "    pool = Pool()\n",
      "    hostname = socket.gethostname()\n",
      "    splits = split_file(seqs)\n",
      "    results = []\n",
      "    source = None\n",
      "    for k, temp_files in splits.items():\n",
      "        source = k\n",
      "        for f in temp_files:\n",
      "            try:\n",
      "                p = pool.apply_async(process_single_file, (f,))\n",
      "                results.append(p) \n",
      "            except:\n",
      "                traceback.print_exc()\n",
      "    pool.close() \n",
      "    pool.join()\n",
      "    \n",
      "    #collapse processed temp files\n",
      "    res = collapse_results(source, [x.get() for x in results])\n",
      "    \n",
      "    #remove temp split source files\n",
      "    for k, v in splits.items():\n",
      "        x = [os.remove(x) for x in v]   \n",
      "    timer.stop()\n",
      "    return socket.gethostname(), source, res, timer.elapsed\n",
      "dview['process_single'] = process_single\n",
      "dview['collapse_results'] = collapse_results\n",
      "dview['process_single_file'] = process_single_file "
     ],
     "language": "python",
     "metadata": {},
     "outputs": [],
     "prompt_number": 26
    },
    {
     "cell_type": "code",
     "collapsed": false,
     "input": [
      "process_jobs = []\n",
      "for s in seq_pairs:\n",
      "    process_jobs.append(cview.apply_async(process_seqs, s))\n",
      "#     if 'lane3' in s[0][0] and not 'test' in s[0][0]:\n",
      "#         print s\n",
      "#         test = create_test_file(s[0][0], 1e4)\n",
      "#         print test\n",
      "#         process_jobs.append(process_seqs(test))\n",
      "#         process_jobs.append(cview.client.load_balanced_view().apply_async(process_seqs, test))"
     ],
     "language": "python",
     "metadata": {},
     "outputs": [],
     "prompt_number": 27
    },
    {
     "cell_type": "code",
     "collapsed": false,
     "input": [
      "for j in process_jobs:\n",
      "    if j.ready():\n",
      "        print j.get()\n",
      "    else:\n",
      "        print \"*job*\", j.metadata.stdout\n",
      "    print \"\""
     ],
     "language": "python",
     "metadata": {},
     "outputs": [
      {
       "output_type": "stream",
       "stream": "stdout",
       "text": [
        "('godel97', '/home/cfriedline/eckertlab/bccl.csbc.vcu.edu/internal/Eckert/HiSeq_130529/PurplePool/lane3_Undetermined_L003_read1.fastq.test.gz', '/home/cfriedline/eckertlab/bccl.csbc.vcu.edu/internal/Eckert/HiSeq_130529/PurplePool/lane3_Undetermined_L003_read1.fastq.test_processed.fastq', 1.679677963256836)\n",
        "\n",
        "Not implemented\n",
        "\n",
        "Not implemented\n",
        "\n",
        "*job* \n",
        "\n",
        "*job* \n",
        "\n",
        "*job* godel97 /tmp/888441.1.godel199/tmpGGcAeA\n",
        "godel97 /tmp/888441.1.godel199/tmpv_DFLQ\n",
        "godel97 /tmp/888441.1.godel199/tmpN_ouHx\n",
        "godel97 /tmp/888441.1.godel199/tmpb5R3An\n",
        "godel97 /tmp/888441.1.godel199/tmpB9GbAH\n",
        "godel97 /tmp/888441.1.godel199/tmpsMTmf5\n",
        "godel97 /tmp/888441.1.godel199/tmpt0BkIk\n",
        "godel97 /tmp/888441.1.godel199/tmp41QHSI\n",
        "godel97 /tmp/888441.1.godel199/tmpA3JyI5\n",
        "godel97 /tmp/888441.1.godel199/tmpzmMDST\n",
        "godel97 /tmp/888441.1.godel199/tmpS9aA5g\n",
        "godel97 /tmp/888441.1.godel199/tmpiSOgP2\n",
        "godel97 /tmp/888441.1.godel199/tmpQwYIfx\n",
        "godel97 /tmp/888441.1.godel199/tmpaHs6Td\n",
        "godel97 /tmp/888441.1.godel199/tmpZpqlOb\n",
        "godel97\n",
        "\n",
        "Not implemented\n",
        "\n",
        "*job* godel199 /tmp/888441.9.godel199/tmpU_xhRB\n",
        "godel199 /tmp/888441.9.godel199/tmpvxUHTB\n",
        "godel199 /tmp/888441.9.godel199/tmp_4imLZ\n",
        "godel199 /tmp/888441.9.godel199/tmpx4j_Ox\n",
        "godel199 /tmp/888441.9.godel199/tmp6aVxRJ\n",
        "godel199 /tmp/888441.9.godel199/tmpxCI3s9\n",
        "godel199 /tmp/888441.9.godel199/tmp8ImQpL\n",
        "godel199 /tmp/888441.9.godel199/tmpFxQ4eC\n",
        "godel199 /tmp/888441.9.godel199/tmp6ykRBR\n",
        "godel199 /tmp/888441.9.godel199/tmpQTyyVA\n",
        "godel199 /tmp/888441.9.godel199/tmpUZaRO_\n",
        "godel199 /tmp/888441.9.godel199/tmp3Ml12E\n",
        "godel199 /tmp/888441.9.godel199/tmpmZCq1Z\n",
        "godel199 /tmp/888441.9.godel199/tmpnKwjBO\n",
        "godel199 /tmp/888441.9.godel199/tmpULfjGs\n",
        "godel199 /tmp/888441.9.godel199/tmpKz5Mgn\n",
        "godel199 /tmp/888441.9.godel199/tmpncS2Jo\n",
        "godel199 /tmp/888441.9.godel199/tmpuwQaTn\n",
        "godel199 /tmp/888441.9.godel199/tmpIzYvlS\n",
        "godel199 /tmp/888441.9.godel199/tmpnMq6pD\n",
        "godel199 /tmp/888441.9.godel199/tmpth3G9G\n",
        "godel199 /tmp/888441.9.godel199/tmp9_BB84\n",
        "godel199 /tmp/888441.9.godel199/tmpUNYMdh\n",
        "godel199 /tmp/888441.9.godel199/tmp_sPz8s\n",
        "godel199 /tmp/888441.9.godel199/tmpERtR0a\n",
        "godel199 /tmp/888441.9.godel199/tmpPmN5ba\n",
        "godel199 /tmp/888441.9.godel199/tmp651x9Y\n",
        "godel199 /tmp/888441.9.godel199/tmp990y_e\n",
        "godel199 /tmp/888441.9.godel199/tmphG7UGJ\n",
        "godel199 /tmp/888441.9.godel199/tmprLdpco\n",
        "godel199 /tmp/888441.9.godel199/tmpVSL5ua\n",
        "godel199 /tmp/888441.9.godel199/tmpOzm5sn\n",
        "godel199 /tmp/888441.9.godel199/tmpe_ab_W\n",
        "godel199 /tmp/888441.9.godel199/tmpjaSwwX\n",
        "godel199 /tmp/888441.9.godel199/tmp0bW4Di\n",
        "godel199 /tmp/888441.9.godel199/tmpib09Jc\n",
        "godel199 /tmp/888441.9.godel199/tmpxiKg8O\n",
        "godel199 /tmp/888441.9.godel199/tmpF5FEHt\n",
        "godel199 /tmp/888441.9.godel199/tmp4xMFO4\n",
        "godel199 /tmp/888441.9.godel199/tmptLTIF5\n",
        "godel199 /tmp/888441.9.godel199/tmpBsw6tO\n",
        "godel199 /tmp/888441.9.godel199/tmpp2EixP\n",
        "godel199 /tmp/888441.9.godel199/tmpZdhMJx\n",
        "godel199 /tmp/888441.9.godel199/tmprhLd96\n",
        "godel199 /tmp/888441.9.godel199/tmp7y5ZdI\n",
        "godel199 /tmp/888441.9.godel199/tmpSBtsjk\n",
        "godel199 /tmp/888441.9.godel199/tmpMwraeF\n",
        "godel199 /tmp/888441.9.godel199/tmp23BVz_\n",
        "godel199\n",
        "\n",
        "Not implemented\n",
        "\n",
        "Not implemented\n",
        "\n"
       ]
      }
     ],
     "prompt_number": 145
    }
   ],
   "metadata": {}
  }
 ]
}
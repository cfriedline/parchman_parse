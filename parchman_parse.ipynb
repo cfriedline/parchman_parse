{
 "metadata": {
  "name": ""
 },
 "nbformat": 3,
 "nbformat_minor": 0,
 "worksheets": [
  {
   "cells": [
    {
     "cell_type": "code",
     "collapsed": false,
     "input": [
      "file_dir = \"/home/cfriedline/eckertlab/bccl.csbc.vcu.edu/internal/Eckert\""
     ],
     "language": "python",
     "metadata": {},
     "outputs": [],
     "prompt_number": 364
    },
    {
     "cell_type": "code",
     "collapsed": false,
     "input": [
      "import os\n",
      "gz_files = []\n",
      "for root, dirs, files in os.walk(file_dir):\n",
      "    for f in files:\n",
      "        if \".gz\" in f:\n",
      "            gz_files.append(os.path.join(root, f))"
     ],
     "language": "python",
     "metadata": {},
     "outputs": []
    },
    {
     "cell_type": "code",
     "collapsed": false,
     "input": [
      "from IPython.parallel import Client"
     ],
     "language": "python",
     "metadata": {},
     "outputs": [],
     "prompt_number": 951
    },
    {
     "cell_type": "code",
     "collapsed": false,
     "input": [
      "rc = Client(profile=\"sge\")\n",
      "print len(rc.ids)\n",
      "#pid map pid_map = rc[:].apply_async(os.getpid).get_dict()"
     ],
     "language": "python",
     "metadata": {},
     "outputs": [
      {
       "output_type": "stream",
       "stream": "stdout",
       "text": [
        "20\n",
        "<DirectView [0, 1, 2]>\n"
       ]
      }
     ],
     "prompt_number": 977
    },
    {
     "cell_type": "code",
     "collapsed": false,
     "input": [
      "@dview.remote(block=True)\n",
      "def get_cpu_count():\n",
      "    import multiprocessing as mp\n",
      "    import socket\n",
      "    return socket.gethostname(), mp.cpu_count()\n",
      "cpu_counts = get_cpu_count()\n",
      "from collections import defaultdict\n",
      "cpu_dict = defaultdict(list)\n",
      "for i, c in enumerate(cpu_counts):\n",
      "    if c[1] > 16:\n",
      "        cpu_dict[c[0]].append(i)    "
     ],
     "language": "python",
     "metadata": {},
     "outputs": [],
     "prompt_number": 979
    },
    {
     "cell_type": "code",
     "collapsed": false,
     "input": [
      "dview = rc[:] #all nodes\n",
      "lview = rc.load_balanced_view() # for load balancing\n",
      "cview = rc[[v[0] for k, v in cpu_dict.items()]] #nodes with > x cpus (see get_cpu_count)"
     ],
     "language": "python",
     "metadata": {},
     "outputs": [],
     "prompt_number": 981
    },
    {
     "cell_type": "code",
     "collapsed": false,
     "input": [
      "with dview.sync_imports():\n",
      "    import numpy\n",
      "    import numpy as np\n",
      "    import scipy\n",
      "    import pandas\n",
      "    import gzip\n",
      "    import os\n",
      "    import tempfile\n",
      "    import shutil\n",
      "    import socket\n",
      "    from Bio.SeqIO.QualityIO import FastqGeneralIterator\n",
      "    from collections import deque\n",
      "    import multiprocessing "
     ],
     "language": "python",
     "metadata": {},
     "outputs": [
      {
       "output_type": "stream",
       "stream": "stdout",
       "text": [
        "importing numpy on engine(s)\n",
        "importing scipy on engine(s)\n",
        "importing pandas on engine(s)\n",
        "importing gzip on engine(s)\n",
        "importing os on engine(s)\n",
        "importing tempfile on engine(s)"
       ]
      },
      {
       "output_type": "stream",
       "stream": "stdout",
       "text": [
        "\n",
        "importing shutil on engine(s)\n",
        "importing socket on engine(s)\n",
        "importing FastqGeneralIterator from Bio.SeqIO.QualityIO on engine(s)\n",
        "importing deque from collections on engine(s)\n",
        "importing multiprocessing on engine(s)"
       ]
      },
      {
       "ename": "KeyboardInterrupt",
       "evalue": "",
       "output_type": "pyerr",
       "traceback": [
        "\u001b[1;31m---------------------------------------------------------------------------\u001b[0m\n\u001b[1;31mKeyboardInterrupt\u001b[0m                         Traceback (most recent call last)",
        "\u001b[1;32m<ipython-input-893-fe4560a4540d>\u001b[0m in \u001b[0;36m<module>\u001b[1;34m()\u001b[0m\n\u001b[0;32m     11\u001b[0m     \u001b[1;32mfrom\u001b[0m \u001b[0mBio\u001b[0m\u001b[1;33m.\u001b[0m\u001b[0mSeqIO\u001b[0m\u001b[1;33m.\u001b[0m\u001b[0mQualityIO\u001b[0m \u001b[1;32mimport\u001b[0m \u001b[0mFastqGeneralIterator\u001b[0m\u001b[1;33m\u001b[0m\u001b[0m\n\u001b[0;32m     12\u001b[0m     \u001b[1;32mfrom\u001b[0m \u001b[0mcollections\u001b[0m \u001b[1;32mimport\u001b[0m \u001b[0mdeque\u001b[0m\u001b[1;33m\u001b[0m\u001b[0m\n\u001b[1;32m---> 13\u001b[1;33m     \u001b[1;32mimport\u001b[0m \u001b[0mmultiprocessing\u001b[0m\u001b[1;33m\u001b[0m\u001b[0m\n\u001b[0m",
        "\u001b[1;32m/home/cfriedline/epd-7.3-2-rh5-x86_64/lib/python2.7/contextlib.pyc\u001b[0m in \u001b[0;36m__exit__\u001b[1;34m(self, type, value, traceback)\u001b[0m\n\u001b[0;32m     22\u001b[0m         \u001b[1;32mif\u001b[0m \u001b[0mtype\u001b[0m \u001b[1;32mis\u001b[0m \u001b[0mNone\u001b[0m\u001b[1;33m:\u001b[0m\u001b[1;33m\u001b[0m\u001b[0m\n\u001b[0;32m     23\u001b[0m             \u001b[1;32mtry\u001b[0m\u001b[1;33m:\u001b[0m\u001b[1;33m\u001b[0m\u001b[0m\n\u001b[1;32m---> 24\u001b[1;33m                 \u001b[0mself\u001b[0m\u001b[1;33m.\u001b[0m\u001b[0mgen\u001b[0m\u001b[1;33m.\u001b[0m\u001b[0mnext\u001b[0m\u001b[1;33m(\u001b[0m\u001b[1;33m)\u001b[0m\u001b[1;33m\u001b[0m\u001b[0m\n\u001b[0m\u001b[0;32m     25\u001b[0m             \u001b[1;32mexcept\u001b[0m \u001b[0mStopIteration\u001b[0m\u001b[1;33m:\u001b[0m\u001b[1;33m\u001b[0m\u001b[0m\n\u001b[0;32m     26\u001b[0m                 \u001b[1;32mreturn\u001b[0m\u001b[1;33m\u001b[0m\u001b[0m\n",
        "\u001b[1;32m/home/cfriedline/epd-7.3-2-rh5-x86_64/lib/python2.7/site-packages/IPython/parallel/client/view.pyc\u001b[0m in \u001b[0;36msync_imports\u001b[1;34m(self, local, quiet)\u001b[0m\n\u001b[0;32m    509\u001b[0m         \u001b[1;32mfor\u001b[0m \u001b[0mr\u001b[0m \u001b[1;32min\u001b[0m \u001b[0mresults\u001b[0m\u001b[1;33m:\u001b[0m\u001b[1;33m\u001b[0m\u001b[0m\n\u001b[0;32m    510\u001b[0m             \u001b[1;31m# raise possible remote ImportErrors here\u001b[0m\u001b[1;33m\u001b[0m\u001b[1;33m\u001b[0m\u001b[0m\n\u001b[1;32m--> 511\u001b[1;33m             \u001b[0mr\u001b[0m\u001b[1;33m.\u001b[0m\u001b[0mget\u001b[0m\u001b[1;33m(\u001b[0m\u001b[1;33m)\u001b[0m\u001b[1;33m\u001b[0m\u001b[0m\n\u001b[0m\u001b[0;32m    512\u001b[0m \u001b[1;33m\u001b[0m\u001b[0m\n\u001b[0;32m    513\u001b[0m \u001b[1;33m\u001b[0m\u001b[0m\n",
        "\u001b[1;32m/home/cfriedline/epd-7.3-2-rh5-x86_64/lib/python2.7/site-packages/IPython/parallel/client/asyncresult.pyc\u001b[0m in \u001b[0;36mget\u001b[1;34m(self, timeout)\u001b[0m\n\u001b[0;32m    118\u001b[0m         \"\"\"\n\u001b[0;32m    119\u001b[0m         \u001b[1;32mif\u001b[0m \u001b[1;32mnot\u001b[0m \u001b[0mself\u001b[0m\u001b[1;33m.\u001b[0m\u001b[0mready\u001b[0m\u001b[1;33m(\u001b[0m\u001b[1;33m)\u001b[0m\u001b[1;33m:\u001b[0m\u001b[1;33m\u001b[0m\u001b[0m\n\u001b[1;32m--> 120\u001b[1;33m             \u001b[0mself\u001b[0m\u001b[1;33m.\u001b[0m\u001b[0mwait\u001b[0m\u001b[1;33m(\u001b[0m\u001b[0mtimeout\u001b[0m\u001b[1;33m)\u001b[0m\u001b[1;33m\u001b[0m\u001b[0m\n\u001b[0m\u001b[0;32m    121\u001b[0m \u001b[1;33m\u001b[0m\u001b[0m\n\u001b[0;32m    122\u001b[0m         \u001b[1;32mif\u001b[0m \u001b[0mself\u001b[0m\u001b[1;33m.\u001b[0m\u001b[0m_ready\u001b[0m\u001b[1;33m:\u001b[0m\u001b[1;33m\u001b[0m\u001b[0m\n",
        "\u001b[1;32m/home/cfriedline/epd-7.3-2-rh5-x86_64/lib/python2.7/site-packages/IPython/parallel/client/asyncresult.pyc\u001b[0m in \u001b[0;36mwait\u001b[1;34m(self, timeout)\u001b[0m\n\u001b[0;32m    149\u001b[0m             \u001b[0mself\u001b[0m\u001b[1;33m.\u001b[0m\u001b[0m_wait_for_outputs\u001b[0m\u001b[1;33m(\u001b[0m\u001b[0mtimeout\u001b[0m\u001b[1;33m)\u001b[0m\u001b[1;33m\u001b[0m\u001b[0m\n\u001b[0;32m    150\u001b[0m             \u001b[1;32mreturn\u001b[0m\u001b[1;33m\u001b[0m\u001b[0m\n\u001b[1;32m--> 151\u001b[1;33m         \u001b[0mself\u001b[0m\u001b[1;33m.\u001b[0m\u001b[0m_ready\u001b[0m \u001b[1;33m=\u001b[0m \u001b[0mself\u001b[0m\u001b[1;33m.\u001b[0m\u001b[0m_client\u001b[0m\u001b[1;33m.\u001b[0m\u001b[0mwait\u001b[0m\u001b[1;33m(\u001b[0m\u001b[0mself\u001b[0m\u001b[1;33m.\u001b[0m\u001b[0mmsg_ids\u001b[0m\u001b[1;33m,\u001b[0m \u001b[0mtimeout\u001b[0m\u001b[1;33m)\u001b[0m\u001b[1;33m\u001b[0m\u001b[0m\n\u001b[0m\u001b[0;32m    152\u001b[0m         \u001b[1;32mif\u001b[0m \u001b[0mself\u001b[0m\u001b[1;33m.\u001b[0m\u001b[0m_ready\u001b[0m\u001b[1;33m:\u001b[0m\u001b[1;33m\u001b[0m\u001b[0m\n\u001b[0;32m    153\u001b[0m             \u001b[1;32mtry\u001b[0m\u001b[1;33m:\u001b[0m\u001b[1;33m\u001b[0m\u001b[0m\n",
        "\u001b[1;32m/home/cfriedline/epd-7.3-2-rh5-x86_64/lib/python2.7/site-packages/IPython/parallel/client/client.pyc\u001b[0m in \u001b[0;36mwait\u001b[1;34m(self, jobs, timeout)\u001b[0m\n\u001b[0;32m   1058\u001b[0m             \u001b[1;32mif\u001b[0m \u001b[0mtimeout\u001b[0m \u001b[1;33m>=\u001b[0m \u001b[1;36m0\u001b[0m \u001b[1;32mand\u001b[0m \u001b[1;33m(\u001b[0m \u001b[0mtime\u001b[0m\u001b[1;33m.\u001b[0m\u001b[0mtime\u001b[0m\u001b[1;33m(\u001b[0m\u001b[1;33m)\u001b[0m\u001b[1;33m-\u001b[0m\u001b[0mtic\u001b[0m \u001b[1;33m)\u001b[0m \u001b[1;33m>\u001b[0m \u001b[0mtimeout\u001b[0m\u001b[1;33m:\u001b[0m\u001b[1;33m\u001b[0m\u001b[0m\n\u001b[0;32m   1059\u001b[0m                 \u001b[1;32mbreak\u001b[0m\u001b[1;33m\u001b[0m\u001b[0m\n\u001b[1;32m-> 1060\u001b[1;33m             \u001b[0mtime\u001b[0m\u001b[1;33m.\u001b[0m\u001b[0msleep\u001b[0m\u001b[1;33m(\u001b[0m\u001b[1;36m1e-3\u001b[0m\u001b[1;33m)\u001b[0m\u001b[1;33m\u001b[0m\u001b[0m\n\u001b[0m\u001b[0;32m   1061\u001b[0m             \u001b[0mself\u001b[0m\u001b[1;33m.\u001b[0m\u001b[0mspin\u001b[0m\u001b[1;33m(\u001b[0m\u001b[1;33m)\u001b[0m\u001b[1;33m\u001b[0m\u001b[0m\n\u001b[0;32m   1062\u001b[0m         \u001b[1;32mreturn\u001b[0m \u001b[0mlen\u001b[0m\u001b[1;33m(\u001b[0m\u001b[0mtheids\u001b[0m\u001b[1;33m.\u001b[0m\u001b[0mintersection\u001b[0m\u001b[1;33m(\u001b[0m\u001b[0mself\u001b[0m\u001b[1;33m.\u001b[0m\u001b[0moutstanding\u001b[0m\u001b[1;33m)\u001b[0m\u001b[1;33m)\u001b[0m \u001b[1;33m==\u001b[0m \u001b[1;36m0\u001b[0m\u001b[1;33m\u001b[0m\u001b[0m\n",
        "\u001b[1;31mKeyboardInterrupt\u001b[0m: "
       ]
      },
      {
       "output_type": "stream",
       "stream": "stdout",
       "text": [
        "\n"
       ]
      }
     ],
     "prompt_number": 893
    },
    {
     "cell_type": "code",
     "collapsed": false,
     "input": [
      "def get_num_seqs(f):\n",
      "    count = 0\n",
      "    fastq = gzip.open(f)\n",
      "    for title, seq, qual in FastqGeneralIterator(fastq):    \n",
      "        count += 1\n",
      "    return (f, count)\n",
      "dview['get_num_seqs'] = get_num_seqs"
     ],
     "language": "python",
     "metadata": {},
     "outputs": [],
     "prompt_number": 666
    },
    {
     "cell_type": "code",
     "collapsed": false,
     "input": [
      "num_seq_jobs = []\n",
      "for f in gz_files:\n",
      "    num_seq_jobs.append(lview.apply_async(get_num_seqs, f))"
     ],
     "language": "python",
     "metadata": {},
     "outputs": []
    },
    {
     "cell_type": "code",
     "collapsed": false,
     "input": [
      "for j in num_seq_jobs:\n",
      "    if j.ready():\n",
      "        print j.r, j.elapsed\n",
      "    else:\n",
      "        print j.elapsed"
     ],
     "language": "python",
     "metadata": {},
     "outputs": [
      {
       "output_type": "stream",
       "stream": "stdout",
       "text": [
        "('/home/cfriedline/eckertlab/bccl.csbc.vcu.edu/internal/Eckert/FPDad_GCCAAT_L001_read2.fastq.gz', 98188260) 2719.845206\n",
        "('/home/cfriedline/eckertlab/bccl.csbc.vcu.edu/internal/Eckert/FPMom_CTTGTA_L001_read2.fastq.gz', 121872245) 3190.193636\n",
        "('/home/cfriedline/eckertlab/bccl.csbc.vcu.edu/internal/Eckert/FPMom_CTTGTA_L001_read1.fastq.gz', 121872245) 5613.755755\n",
        "('/home/cfriedline/eckertlab/bccl.csbc.vcu.edu/internal/Eckert/FPDad_GCCAAT_L001_read1.fastq.gz', 98188260) 2719.843555\n",
        "('/home/cfriedline/eckertlab/bccl.csbc.vcu.edu/internal/Eckert/HiSeq_130529/PurplePool/lane3_Undetermined_L003_read1.fastq.gz', 34532658) 1167.932305\n",
        "('/home/cfriedline/eckertlab/bccl.csbc.vcu.edu/internal/Eckert/HiSeq_130529/RPG/lane4_read1.fastq.gz', 131250110) 5613.75462\n",
        "('/home/cfriedline/eckertlab/bccl.csbc.vcu.edu/internal/Eckert/HiSeq_130529/Blue/lane6_Undetermined_L006_read1.fastq.gz', 173053059) 5613.754478\n",
        "('/home/cfriedline/eckertlab/bccl.csbc.vcu.edu/internal/Eckert/HiSeq_130604/FPDad_GCCAAT_L001_read2.fastq.gz', 98188260) 2719.840319\n",
        "('/home/cfriedline/eckertlab/bccl.csbc.vcu.edu/internal/Eckert/HiSeq_130604/FPMom_CTTGTA_L001_read2.fastq.gz', 121872245) 3190.190085\n",
        "('/home/cfriedline/eckertlab/bccl.csbc.vcu.edu/internal/Eckert/HiSeq_130604/FPMom_CTTGTA_L001_read1.fastq.gz', 121872245) 3190.189963\n",
        "('/home/cfriedline/eckertlab/bccl.csbc.vcu.edu/internal/Eckert/HiSeq_130604/FPDad_GCCAAT_L001_read1.fastq.gz', 98188260) 2719.840106\n",
        "('/home/cfriedline/eckertlab/bccl.csbc.vcu.edu/internal/Eckert/HiSeq_130604/Undetermined/lane1_Undetermined_L001_read2.fastq.gz', 20088767) 472.823014\n",
        "('/home/cfriedline/eckertlab/bccl.csbc.vcu.edu/internal/Eckert/HiSeq_130604/Undetermined/lane2_Undetermined_L002_read2.fastq.gz', 19589695) 472.822014\n",
        "('/home/cfriedline/eckertlab/bccl.csbc.vcu.edu/internal/Eckert/HiSeq_130604/Undetermined/lane1_Undetermined_L001_read1.fastq.gz', 20088767) 549.066872\n",
        "('/home/cfriedline/eckertlab/bccl.csbc.vcu.edu/internal/Eckert/HiSeq_130604/Undetermined/lane2_Undetermined_L002_read1.fastq.gz', 19589695) 549.06581\n"
       ]
      }
     ],
     "prompt_number": 667
    },
    {
     "cell_type": "code",
     "collapsed": false,
     "input": [
      "seq_nums = {}\n",
      "for j in num_seq_jobs:\n",
      "    if j.ready():\n",
      "        seq_nums[j.r[0]] = j.r\n",
      "print seq_nums\n"
     ],
     "language": "python",
     "metadata": {},
     "outputs": [
      {
       "output_type": "stream",
       "stream": "stdout",
       "text": [
        "{'/home/cfriedline/eckertlab/bccl.csbc.vcu.edu/internal/Eckert/HiSeq_130604/Undetermined/lane2_Undetermined_L002_read1.fastq.gz': ('/home/cfriedline/eckertlab/bccl.csbc.vcu.edu/internal/Eckert/HiSeq_130604/Undetermined/lane2_Undetermined_L002_read1.fastq.gz', 19589695), '/home/cfriedline/eckertlab/bccl.csbc.vcu.edu/internal/Eckert/HiSeq_130604/Undetermined/lane2_Undetermined_L002_read2.fastq.gz': ('/home/cfriedline/eckertlab/bccl.csbc.vcu.edu/internal/Eckert/HiSeq_130604/Undetermined/lane2_Undetermined_L002_read2.fastq.gz', 19589695), '/home/cfriedline/eckertlab/bccl.csbc.vcu.edu/internal/Eckert/FPMom_CTTGTA_L001_read1.fastq.gz': ('/home/cfriedline/eckertlab/bccl.csbc.vcu.edu/internal/Eckert/FPMom_CTTGTA_L001_read1.fastq.gz', 121872245), '/home/cfriedline/eckertlab/bccl.csbc.vcu.edu/internal/Eckert/HiSeq_130604/FPMom_CTTGTA_L001_read2.fastq.gz': ('/home/cfriedline/eckertlab/bccl.csbc.vcu.edu/internal/Eckert/HiSeq_130604/FPMom_CTTGTA_L001_read2.fastq.gz', 121872245), '/home/cfriedline/eckertlab/bccl.csbc.vcu.edu/internal/Eckert/HiSeq_130604/Undetermined/lane1_Undetermined_L001_read1.fastq.gz': ('/home/cfriedline/eckertlab/bccl.csbc.vcu.edu/internal/Eckert/HiSeq_130604/Undetermined/lane1_Undetermined_L001_read1.fastq.gz', 20088767), '/home/cfriedline/eckertlab/bccl.csbc.vcu.edu/internal/Eckert/HiSeq_130604/Undetermined/lane1_Undetermined_L001_read2.fastq.gz': ('/home/cfriedline/eckertlab/bccl.csbc.vcu.edu/internal/Eckert/HiSeq_130604/Undetermined/lane1_Undetermined_L001_read2.fastq.gz', 20088767), '/home/cfriedline/eckertlab/bccl.csbc.vcu.edu/internal/Eckert/FPDad_GCCAAT_L001_read2.fastq.gz': ('/home/cfriedline/eckertlab/bccl.csbc.vcu.edu/internal/Eckert/FPDad_GCCAAT_L001_read2.fastq.gz', 98188260), '/home/cfriedline/eckertlab/bccl.csbc.vcu.edu/internal/Eckert/HiSeq_130529/Blue/lane6_Undetermined_L006_read1.fastq.gz': ('/home/cfriedline/eckertlab/bccl.csbc.vcu.edu/internal/Eckert/HiSeq_130529/Blue/lane6_Undetermined_L006_read1.fastq.gz', 173053059), '/home/cfriedline/eckertlab/bccl.csbc.vcu.edu/internal/Eckert/HiSeq_130529/RPG/lane4_read1.fastq.gz': ('/home/cfriedline/eckertlab/bccl.csbc.vcu.edu/internal/Eckert/HiSeq_130529/RPG/lane4_read1.fastq.gz', 131250110), '/home/cfriedline/eckertlab/bccl.csbc.vcu.edu/internal/Eckert/HiSeq_130604/FPDad_GCCAAT_L001_read1.fastq.gz': ('/home/cfriedline/eckertlab/bccl.csbc.vcu.edu/internal/Eckert/HiSeq_130604/FPDad_GCCAAT_L001_read1.fastq.gz', 98188260), '/home/cfriedline/eckertlab/bccl.csbc.vcu.edu/internal/Eckert/HiSeq_130529/PurplePool/lane3_Undetermined_L003_read1.fastq.gz': ('/home/cfriedline/eckertlab/bccl.csbc.vcu.edu/internal/Eckert/HiSeq_130529/PurplePool/lane3_Undetermined_L003_read1.fastq.gz', 34532658), '/home/cfriedline/eckertlab/bccl.csbc.vcu.edu/internal/Eckert/FPMom_CTTGTA_L001_read2.fastq.gz': ('/home/cfriedline/eckertlab/bccl.csbc.vcu.edu/internal/Eckert/FPMom_CTTGTA_L001_read2.fastq.gz', 121872245), '/home/cfriedline/eckertlab/bccl.csbc.vcu.edu/internal/Eckert/FPDad_GCCAAT_L001_read1.fastq.gz': ('/home/cfriedline/eckertlab/bccl.csbc.vcu.edu/internal/Eckert/FPDad_GCCAAT_L001_read1.fastq.gz', 98188260), '/home/cfriedline/eckertlab/bccl.csbc.vcu.edu/internal/Eckert/HiSeq_130604/FPDad_GCCAAT_L001_read2.fastq.gz': ('/home/cfriedline/eckertlab/bccl.csbc.vcu.edu/internal/Eckert/HiSeq_130604/FPDad_GCCAAT_L001_read2.fastq.gz', 98188260), '/home/cfriedline/eckertlab/bccl.csbc.vcu.edu/internal/Eckert/HiSeq_130604/FPMom_CTTGTA_L001_read1.fastq.gz': ('/home/cfriedline/eckertlab/bccl.csbc.vcu.edu/internal/Eckert/HiSeq_130604/FPMom_CTTGTA_L001_read1.fastq.gz', 121872245)}\n"
       ]
      }
     ],
     "prompt_number": 668
    },
    {
     "cell_type": "code",
     "collapsed": false,
     "input": [
      "seq_pairs = []\n",
      "for k, v in seq_nums.items():\n",
      "    if \"read1\" in v[0]:\n",
      "        read2 = v[0].replace(\"read1\", \"read2\")\n",
      "        if os.path.exists(read2):\n",
      "            seq_pairs.append([v, seq_nums[read2]])\n",
      "        else:\n",
      "            seq_pairs.append([v])\n",
      "print seq_pairs"
     ],
     "language": "python",
     "metadata": {},
     "outputs": [
      {
       "output_type": "stream",
       "stream": "stdout",
       "text": [
        "[[('/home/cfriedline/eckertlab/bccl.csbc.vcu.edu/internal/Eckert/HiSeq_130604/Undetermined/lane2_Undetermined_L002_read1.fastq.gz', 19589695), ('/home/cfriedline/eckertlab/bccl.csbc.vcu.edu/internal/Eckert/HiSeq_130604/Undetermined/lane2_Undetermined_L002_read2.fastq.gz', 19589695)], [('/home/cfriedline/eckertlab/bccl.csbc.vcu.edu/internal/Eckert/FPMom_CTTGTA_L001_read1.fastq.gz', 121872245), ('/home/cfriedline/eckertlab/bccl.csbc.vcu.edu/internal/Eckert/FPMom_CTTGTA_L001_read2.fastq.gz', 121872245)], [('/home/cfriedline/eckertlab/bccl.csbc.vcu.edu/internal/Eckert/HiSeq_130604/Undetermined/lane1_Undetermined_L001_read1.fastq.gz', 20088767), ('/home/cfriedline/eckertlab/bccl.csbc.vcu.edu/internal/Eckert/HiSeq_130604/Undetermined/lane1_Undetermined_L001_read2.fastq.gz', 20088767)], [('/home/cfriedline/eckertlab/bccl.csbc.vcu.edu/internal/Eckert/HiSeq_130529/Blue/lane6_Undetermined_L006_read1.fastq.gz', 173053059)], [('/home/cfriedline/eckertlab/bccl.csbc.vcu.edu/internal/Eckert/HiSeq_130529/RPG/lane4_read1.fastq.gz', 131250110)], [('/home/cfriedline/eckertlab/bccl.csbc.vcu.edu/internal/Eckert/HiSeq_130604/FPDad_GCCAAT_L001_read1.fastq.gz', 98188260), ('/home/cfriedline/eckertlab/bccl.csbc.vcu.edu/internal/Eckert/HiSeq_130604/FPDad_GCCAAT_L001_read2.fastq.gz', 98188260)], [('/home/cfriedline/eckertlab/bccl.csbc.vcu.edu/internal/Eckert/HiSeq_130529/PurplePool/lane3_Undetermined_L003_read1.fastq.gz', 34532658)], [('/home/cfriedline/eckertlab/bccl.csbc.vcu.edu/internal/Eckert/FPDad_GCCAAT_L001_read1.fastq.gz', 98188260), ('/home/cfriedline/eckertlab/bccl.csbc.vcu.edu/internal/Eckert/FPDad_GCCAAT_L001_read2.fastq.gz', 98188260)], [('/home/cfriedline/eckertlab/bccl.csbc.vcu.edu/internal/Eckert/HiSeq_130604/FPMom_CTTGTA_L001_read1.fastq.gz', 121872245), ('/home/cfriedline/eckertlab/bccl.csbc.vcu.edu/internal/Eckert/HiSeq_130604/FPMom_CTTGTA_L001_read2.fastq.gz', 121872245)]]\n"
       ]
      }
     ],
     "prompt_number": 669
    },
    {
     "cell_type": "code",
     "collapsed": false,
     "input": [
      "def process_seqs(seqs):\n",
      "    if len(seqs) == 2:\n",
      "        return process_paired(seqs)\n",
      "    else:\n",
      "        return process_single(seqs)\n",
      "dview['process_seqs'] = process_seqs"
     ],
     "language": "python",
     "metadata": {},
     "outputs": [],
     "prompt_number": 670
    },
    {
     "cell_type": "code",
     "collapsed": false,
     "input": [
      "def process_paired(seqs):\n",
      "    files = [x[0] for x in seqs]\n",
      "    return \"Not implemented\"\n",
      "dview['process_paired'] = process_paired"
     ],
     "language": "python",
     "metadata": {},
     "outputs": [],
     "prompt_number": 671
    },
    {
     "cell_type": "code",
     "collapsed": false,
     "input": [
      "def format_fastq_tuple(title, seq, qual):\n",
      "    assert len(seq) == len(qual)\n",
      "    return \"@%s\\n%s\\n+\\n%s\\n\" % (title, seq, qual)\n",
      "dview['format_fastq_tuple'] = format_fastq_tuple"
     ],
     "language": "python",
     "metadata": {},
     "outputs": [],
     "prompt_number": 672
    },
    {
     "cell_type": "code",
     "collapsed": false,
     "input": [
      "def convert_qual(q):\n",
      "    return ord(q)-33\n",
      "dview['convert_qual'] = convert_qual\n",
      "\n",
      "def get_qual_scores(q):\n",
      "    qual = [ord(x)-33 for x in q] #list comps seems to be fastest here\n",
      "    return numpy.array([qual, numpy.mean(qual)])\n",
      "dview['get_qual_scores'] = get_qual_scores\n",
      "\n",
      "def eval_quality(q):\n",
      "    qual = get_qual_scores(q)\n",
      "    scores = qual[0]\n",
      "    win_size = 5\n",
      "    qual_cutoff = 30\n",
      "    len_cutoff = 0.5\n",
      "    \n",
      "    if qual[1] < qual_cutoff:\n",
      "        return False\n",
      "    \n",
      "    below_cutoff = 0.0\n",
      "    window = deque(maxlen=win_size)\n",
      "    qual_perc_cutoff = 0.20\n",
      "    win_end = win_size\n",
      "    last_good = None\n",
      "    for s in scores:\n",
      "        window.append(s)\n",
      "        if s < qual_cutoff:\n",
      "            below_cutoff += 1 #keep track of scores below the quality cutoff\n",
      "        if len(window) == win_size:\n",
      "            if numpy.mean(window) < qual_cutoff:\n",
      "                if last_good is None:\n",
      "                    last_good = win_end                    \n",
      "                    if float(last_good)/len(scores) < len_cutoff:\n",
      "                        return False    # then it's too short                \n",
      "            win_end += 1 \n",
      "    perc_below = below_cutoff/len(scores)\n",
      "    if last_good:\n",
      "        scores = scores[0:(last_good-1)] #trim the scores if it will be long enough\n",
      "    perc_len = float(len(scores))/len(qual[0])\n",
      "    if perc_below > qual_perc_cutoff:\n",
      "        return False #drop reads if overall bases have quality values < cutoff, even if average is ok\n",
      "    return scores\n",
      "dview['eval_quality'] = eval_quality"
     ],
     "language": "python",
     "metadata": {},
     "outputs": [],
     "prompt_number": 673
    },
    {
     "cell_type": "code",
     "collapsed": false,
     "input": [
      "def process_single(seqs):\n",
      "    splits = split_file(seqs)\n",
      "    for k, v in splits.items():\n",
      "        print k, [x.name for x in v]\n",
      "    return \n",
      "\n",
      "\n",
      "    split_results = []\n",
      "    \n",
      "    for source, temp_files in splits.items():\n",
      "        tmp = tempfile.NamedTemporaryFile(delete=False)    \n",
      "        basename = os.path.basename(f)\n",
      "        handle = gzip.open(f)\n",
      "        hostname = socket.gethostname()\n",
      "        out = \"%s_processed.fastq\" % f.replace(\".fastq.gz\", \"\")\n",
      "        count = 0\n",
      "        n = 0\n",
      "        trimmed = 0\n",
      "        for title, seq, qual in FastqGeneralIterator(handle):\n",
      "            if seq.startswith(\"N\"):\n",
      "                seq = seq[1:]\n",
      "                qual = qual[1:]\n",
      "                \n",
      "            if not \"N\" in seq:\n",
      "                scores = eval_quality(qual)\n",
      "                if scores:\n",
      "                    if len(scores) != len(seq):\n",
      "                        seq = seq[0:len(scores)]\n",
      "                        qual = qual[0:len(scores)]\n",
      "                        trimmed += 1\n",
      "                    tmp.write(format_fastq_tuple(title, seq, qual))\n",
      "            else:\n",
      "                n += 1\n",
      "                \n",
      "            count += 1\n",
      "            \n",
      "            if count % 10 == 0:\n",
      "                print \"%s, %s, %d, %d, %d\" % (hostname, basename, count, n, trimmed)\n",
      "                break\n",
      "        tmp.close()\n",
      "        shutil.copy(tmp.name, out)  \n",
      "        os.remove(tmp.name)\n",
      "        return socket.gethostname(), out, count, n\n",
      "dview['process_single'] = process_single"
     ],
     "language": "python",
     "metadata": {},
     "outputs": [],
     "prompt_number": 1004
    },
    {
     "cell_type": "code",
     "collapsed": false,
     "input": [
      "import multiprocessing\n",
      "from collections import defaultdict\n",
      "def split_file(seqs):\n",
      "    d = defaultdict(list)\n",
      "    num_cpu = multiprocessing.cpu_count()\n",
      "    for seq in seqs:\n",
      "        f, num = seq\n",
      "        reads_per_file = float(num)//num_cpu\n",
      "        read_idx = 0\n",
      "        for title, seq, qual in FastqGeneralIterator(gzip.open(f)):\n",
      "            if read_idx == 0:\n",
      "                t = tempfile.NamedTemporaryFile(delete=False)\n",
      "                print t.name\n",
      "                d[f].append(t)\n",
      "            t.write(format_fastq_tuple(title, seq, qual))\n",
      "            read_idx += 1\n",
      "            \n",
      "            if read_idx == reads_per_file:\n",
      "                read_idx = 0\n",
      "    for k, l in d.items():\n",
      "        [x.close() for x in l]\n",
      "    return d\n",
      "dview['split_file'] = split_file"
     ],
     "language": "python",
     "metadata": {},
     "outputs": [],
     "prompt_number": 1002
    },
    {
     "cell_type": "code",
     "collapsed": false,
     "input": [
      "process_jobs = []\n",
      "for s in seq_pairs:\n",
      "    if 'lane3' in s[0][0]:\n",
      "        process_seqs(s)\n",
      "#     process_jobs.append(lview.apply_async(process_seqs, s))"
     ],
     "language": "python",
     "metadata": {},
     "outputs": [],
     "prompt_number": "*"
    },
    {
     "cell_type": "markdown",
     "metadata": {},
     "source": [
      "#Process seqs with tmp files"
     ]
    },
    {
     "cell_type": "code",
     "collapsed": false,
     "input": [
      "import datetime\n",
      "for j in process_jobs:\n",
      "    if j.ready():\n",
      "        print \"%s (%s)\" % (j.r, (j.metadata['completed'] - j.metadata['started']))\n",
      "    else:\n",
      "        print j.elapsed, j.metadata['stdout'].split(\"\\n\")[-1]"
     ],
     "language": "python",
     "metadata": {},
     "outputs": [
      {
       "output_type": "stream",
       "stream": "stdout",
       "text": [
        "Not implemented (0:00:00.000629)\n",
        "Not implemented (0:00:00.000577)\n",
        "Not implemented (0:00:00.000542)\n",
        "1505.102809 godel97, lane6_Undetermined_L006_read1.fastq.gz, 410000, 128, 83664\n",
        "1505.102671 godel18, lane4_read1.fastq.gz, 820000, 131, 157919\n",
        "Not implemented (0:00:00.001459)\n",
        "1505.102048 godel97, lane3_Undetermined_L003_read1.fastq.gz, 3050000, 1384775, 47977\n",
        "Not implemented (0:00:00.000424)\n",
        "Not implemented (0:00:00.000525)\n"
       ]
      }
     ],
     "prompt_number": 885
    },
    {
     "cell_type": "code",
     "collapsed": false,
     "input": [],
     "language": "python",
     "metadata": {},
     "outputs": [],
     "prompt_number": 389
    }
   ],
   "metadata": {}
  }
 ]
}
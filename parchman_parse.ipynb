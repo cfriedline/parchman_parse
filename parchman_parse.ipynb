{
 "metadata": {
  "name": ""
 },
 "nbformat": 3,
 "nbformat_minor": 0,
 "worksheets": [
  {
   "cells": [
    {
     "cell_type": "code",
     "collapsed": false,
     "input": [
      "file_dir = \"/home/cfriedline/eckertlab/bccl.csbc.vcu.edu/internal/Eckert\""
     ],
     "language": "python",
     "metadata": {},
     "outputs": [],
     "prompt_number": 1
    },
    {
     "cell_type": "code",
     "collapsed": false,
     "input": [
      "import os\n",
      "gz_files = []\n",
      "for root, dirs, files in os.walk(file_dir):\n",
      "    for f in files:\n",
      "        if \".gz\" in f:\n",
      "            gz_files.append(os.path.join(root, f))"
     ],
     "language": "python",
     "metadata": {},
     "outputs": [],
     "prompt_number": 2
    },
    {
     "cell_type": "code",
     "collapsed": false,
     "input": [
      "from IPython.parallel import Client"
     ],
     "language": "python",
     "metadata": {},
     "outputs": [],
     "prompt_number": 3
    },
    {
     "cell_type": "code",
     "collapsed": false,
     "input": [
      "rc = Client(profile=\"sge\")\n",
      "print len(rc.ids)\n",
      "#pid map pid_map = rc[:].apply_async(os.getpid).get_dict()"
     ],
     "language": "python",
     "metadata": {},
     "outputs": [
      {
       "output_type": "stream",
       "stream": "stdout",
       "text": [
        "20\n"
       ]
      }
     ],
     "prompt_number": 14
    },
    {
     "cell_type": "code",
     "collapsed": false,
     "input": [
      "dview = rc[:] #all nodes\n",
      "lview = rc.load_balanced_view() # for load balancing"
     ],
     "language": "python",
     "metadata": {},
     "outputs": [],
     "prompt_number": 15
    },
    {
     "cell_type": "code",
     "collapsed": false,
     "input": [
      "@dview.remote(block=True)\n",
      "def get_cpu_count():\n",
      "    import multiprocessing as mp\n",
      "    import socket\n",
      "    return socket.gethostname(), mp.cpu_count()\n",
      "cpu_counts = get_cpu_count()\n",
      "from collections import defaultdict\n",
      "cpu_dict = defaultdict(list)\n",
      "for i, c in enumerate(cpu_counts):\n",
      "    if c[1] > 16:\n",
      "        cpu_dict[c[0]].append(i)    \n",
      "cview = rc[[v[0] for k, v in cpu_dict.items()]] #nodes with > x cpus (see get_cpu_count)"
     ],
     "language": "python",
     "metadata": {},
     "outputs": [],
     "prompt_number": 16
    },
    {
     "cell_type": "code",
     "collapsed": false,
     "input": [
      "with dview.sync_imports():\n",
      "    import numpy\n",
      "    import numpy as np\n",
      "    import scipy\n",
      "    import pandas\n",
      "    import gzip\n",
      "    import os\n",
      "    import tempfile\n",
      "    import shutil\n",
      "    import socket\n",
      "    from Bio.SeqIO.QualityIO import FastqGeneralIterator\n",
      "    from collections import deque, defaultdict\n",
      "    import multiprocessing \n",
      "    from multiprocessing import Pool"
     ],
     "language": "python",
     "metadata": {},
     "outputs": [
      {
       "output_type": "stream",
       "stream": "stdout",
       "text": [
        "importing numpy on engine(s)\n",
        "importing scipy on engine(s)\n",
        "importing pandas on engine(s)"
       ]
      },
      {
       "output_type": "stream",
       "stream": "stdout",
       "text": [
        "\n",
        "importing gzip on engine(s)\n",
        "importing os on engine(s)\n",
        "importing tempfile on engine(s)\n",
        "importing shutil on engine(s)\n",
        "importing socket on engine(s)\n",
        "importing FastqGeneralIterator from Bio.SeqIO.QualityIO on engine(s)"
       ]
      },
      {
       "output_type": "stream",
       "stream": "stdout",
       "text": [
        "\n",
        "importing deque,defaultdict from collections on engine(s)\n",
        "importing multiprocessing on engine(s)\n",
        "importing Pool from multiprocessing on engine(s)\n"
       ]
      }
     ],
     "prompt_number": 17
    },
    {
     "cell_type": "code",
     "collapsed": false,
     "input": [
      "def get_num_seqs(f):\n",
      "#     count = 0\n",
      "#     fastq = gzip.open(f)\n",
      "#     for title, seq, qual in FastqGeneralIterator(fastq):    \n",
      "#         count += 1\n",
      "    count = !zgrep -c . $f\n",
      "    return (f, int(count[0])/4)\n",
      "dview['get_num_seqs'] = get_num_seqs"
     ],
     "language": "python",
     "metadata": {},
     "outputs": [],
     "prompt_number": 22
    },
    {
     "cell_type": "code",
     "collapsed": false,
     "input": [
      "num_seq_jobs = []\n",
      "for f in gz_files:\n",
      "    num_seq_jobs.append(lview.apply_async(get_num_seqs, f))"
     ],
     "language": "python",
     "metadata": {},
     "outputs": []
    },
    {
     "cell_type": "code",
     "collapsed": false,
     "input": [
      "for j in num_seq_jobs:\n",
      "    if j.ready():\n",
      "        print j.r, j.elapsed\n",
      "    else:\n",
      "        print j.elapsed"
     ],
     "language": "python",
     "metadata": {},
     "outputs": []
    },
    {
     "cell_type": "code",
     "collapsed": false,
     "input": [
      "seq_nums = {}\n",
      "for j in num_seq_jobs:\n",
      "    if j.ready():\n",
      "        seq_nums[j.r[0]] = j.r"
     ],
     "language": "python",
     "metadata": {},
     "outputs": []
    },
    {
     "cell_type": "code",
     "collapsed": false,
     "input": [
      "seq_pairs = []\n",
      "for k, v in seq_nums.items():\n",
      "    if \"read1\" in v[0]:\n",
      "        read2 = v[0].replace(\"read1\", \"read2\")\n",
      "        if os.path.exists(read2):\n",
      "            seq_pairs.append([v, seq_nums[read2]])\n",
      "        else:\n",
      "            seq_pairs.append([v])\n",
      "print seq_pairs"
     ],
     "language": "python",
     "metadata": {},
     "outputs": []
    },
    {
     "cell_type": "code",
     "collapsed": false,
     "input": [
      "def process_seqs(seqs):\n",
      "    if len(seqs) == 2:\n",
      "        return process_paired(seqs)\n",
      "    else:\n",
      "        return process_single(seqs)\n",
      "dview['process_seqs'] = process_seqs"
     ],
     "language": "python",
     "metadata": {},
     "outputs": []
    },
    {
     "cell_type": "code",
     "collapsed": false,
     "input": [
      "def process_paired(seqs):\n",
      "    files = [x[0] for x in seqs]\n",
      "    return \"Not implemented\"\n",
      "dview['process_paired'] = process_paired"
     ],
     "language": "python",
     "metadata": {},
     "outputs": []
    },
    {
     "cell_type": "code",
     "collapsed": false,
     "input": [
      "def format_fastq_tuple(title, seq, qual):\n",
      "    assert len(seq) == len(qual)\n",
      "    return \"@%s\\n%s\\n+\\n%s\\n\" % (title, seq, qual)\n",
      "dview['format_fastq_tuple'] = format_fastq_tuple"
     ],
     "language": "python",
     "metadata": {},
     "outputs": []
    },
    {
     "cell_type": "code",
     "collapsed": false,
     "input": [
      "def convert_qual(q):\n",
      "    return ord(q)-33\n",
      "dview['convert_qual'] = convert_qual\n",
      "\n",
      "def get_qual_scores(q):\n",
      "    qual = [ord(x)-33 for x in q] #list comps seems to be fastest here\n",
      "    return numpy.array([qual, numpy.mean(qual)])\n",
      "dview['get_qual_scores'] = get_qual_scores\n",
      "\n",
      "def eval_quality(q):\n",
      "    qual = get_qual_scores(q)\n",
      "    scores = qual[0]\n",
      "    win_size = 5\n",
      "    qual_cutoff = 30\n",
      "    len_cutoff = 0.5\n",
      "    \n",
      "    if qual[1] < qual_cutoff:\n",
      "        return False\n",
      "    \n",
      "    below_cutoff = 0.0\n",
      "    window = deque(maxlen=win_size)\n",
      "    qual_perc_cutoff = 0.20\n",
      "    win_end = win_size\n",
      "    last_good = None\n",
      "    for s in scores:\n",
      "        window.append(s)\n",
      "        if s < qual_cutoff:\n",
      "            below_cutoff += 1 #keep track of scores below the quality cutoff\n",
      "        if len(window) == win_size:\n",
      "            if numpy.mean(window) < qual_cutoff:\n",
      "                if last_good is None:\n",
      "                    last_good = win_end                    \n",
      "                    if float(last_good)/len(scores) < len_cutoff:\n",
      "                        return False    # then it's too short                \n",
      "            win_end += 1 \n",
      "    perc_below = below_cutoff/len(scores)\n",
      "    if last_good:\n",
      "        scores = scores[0:(last_good-1)] #trim the scores if it will be long enough\n",
      "    perc_len = float(len(scores))/len(qual[0])\n",
      "    if perc_below > qual_perc_cutoff:\n",
      "        return False #drop reads if overall bases have quality values < cutoff, even if average is ok\n",
      "    return scores\n",
      "dview['eval_quality'] = eval_quality"
     ],
     "language": "python",
     "metadata": {},
     "outputs": []
    },
    {
     "cell_type": "code",
     "collapsed": false,
     "input": [
      "def split_file(seqs):\n",
      "    d = defaultdict(list)\n",
      "    num_cpu = multiprocessing.cpu_count()\n",
      "    for seq in seqs:\n",
      "        f, num = seq\n",
      "        reads_per_file = float(num)//num_cpu\n",
      "        read_idx = 0\n",
      "        for title, seq, qual in FastqGeneralIterator(gzip.open(f)):\n",
      "            if read_idx == 0:\n",
      "                t = tempfile.NamedTemporaryFile(delete=False)\n",
      "                print t.name\n",
      "                d[f].append(t)\n",
      "            t.write(format_fastq_tuple(title, seq, qual))\n",
      "            read_idx += 1\n",
      "            \n",
      "            if read_idx == reads_per_file:\n",
      "                read_idx = 0\n",
      "    for k, l in d.items():\n",
      "        [x.close() for x in l]\n",
      "    return d\n",
      "dview['split_file'] = split_file"
     ],
     "language": "python",
     "metadata": {},
     "outputs": []
    },
    {
     "cell_type": "code",
     "collapsed": false,
     "input": [
      "def create_test_file(src, num):\n",
      "    out = src.replace(\"fastq.gz\", \"fastq.test.gz\")\n",
      "    n = 0\n",
      "    with gzip.open(out, \"w\") as o:\n",
      "        for title, seq, qual in FastqGeneralIterator(gzip.open(src)):\n",
      "            o.write(format_fastq_tuple(title, seq, qual))\n",
      "            n += 1\n",
      "            if n == num:\n",
      "                break\n",
      "    return [(out, num)]"
     ],
     "language": "python",
     "metadata": {},
     "outputs": []
    },
    {
     "cell_type": "code",
     "collapsed": false,
     "input": [
      "def process_single_file(f):\n",
      "    tmp = tempfile.NamedTemporaryFile(delete=False)\n",
      "    basename = os.path.basename(f.name)\n",
      "    count = 0\n",
      "    n = 0\n",
      "    trimmed = 0\n",
      "    for title, seq, qual in FastqGeneralIterator(open(f.name)):\n",
      "        if seq.startswith(\"N\"):\n",
      "            seq = seq[1:]\n",
      "            qual = qual[1:]\n",
      "            \n",
      "        if not \"N\" in seq:\n",
      "            scores = eval_quality(qual)\n",
      "            if scores:\n",
      "                if len(scores) != len(seq):\n",
      "                    seq = seq[0:len(scores)]\n",
      "                    qual = qual[0:len(scores)]\n",
      "                    trimmed += 1\n",
      "                tmp.write(format_fastq_tuple(title, seq, qual))\n",
      "        else:\n",
      "            n += 1\n",
      "            \n",
      "        count += 1\n",
      "        \n",
      "        if count % 100 == 0:\n",
      "            print \"%s, %s, %d, %d, %d\" % (socket.gethostname(), basename, count, n, trimmed)\n",
      "            break\n",
      "    tmp.close()\n",
      "    return tmp\n",
      "\n",
      "def collapse_results(source, results):\n",
      "    out = source.replace(\".gz\", \"_processed.fastq\")\n",
      "    temp = tempfile.NamedTemporaryFile(delete=False)\n",
      "    for r in results:\n",
      "        for line in open(r.name):\n",
      "            temp.write(line)\n",
      "    temp.close()\n",
      "    shutil.copy(temp.name, out)\n",
      "    os.remove(temp.name)\n",
      "    [os.remove(x.name) for x in results]\n",
      "    return out \n",
      "\n",
      "def process_single(seqs):\n",
      "    pool = Pool()\n",
      "    hostname = socket.gethostname()\n",
      "    splits = split_file(seqs)\n",
      "    results = []\n",
      "    source = None\n",
      "    for k, temp_files in splits.items():\n",
      "        source = k\n",
      "        for f in temp_files:\n",
      "            p = pool.apply_async(process_single_file, f)\n",
      "            results.append(p)\n",
      "    pool.close()\n",
      "    pool.join()\n",
      "    \n",
      "    for source, temp_files in splits.items():\n",
      "        [os.remove(x.name) for x in temp_files]\n",
      "    \n",
      "    return socket.gethostname(), collapse_results(source, results)\n",
      "dview['process_single'] = process_single\n",
      "dview['collapse_results'] = collapse_results\n",
      "dview['process_single_file'] = process_single_file "
     ],
     "language": "python",
     "metadata": {},
     "outputs": []
    },
    {
     "cell_type": "code",
     "collapsed": false,
     "input": [
      "process_jobs = []\n",
      "for s in seq_pairs:\n",
      "    if 'lane3' in s[0][0] and not 'test' in s[0][0]:\n",
      "        print s\n",
      "        test = create_test_file(s[0][0], 1e4)\n",
      "        print test\n",
      "        print process_seqs(test)\n",
      "#     process_jobs.append(lview.apply_async(process_seqs, s))"
     ],
     "language": "python",
     "metadata": {},
     "outputs": []
    },
    {
     "cell_type": "markdown",
     "metadata": {},
     "source": [
      "#Process seqs with tmp files"
     ]
    },
    {
     "cell_type": "code",
     "collapsed": false,
     "input": [
      "import datetime\n",
      "for j in process_jobs:\n",
      "    if j.ready():\n",
      "        print \"%s (%s)\" % (j.r, (j.metadata['completed'] - j.metadata['started']))\n",
      "    else:\n",
      "        print j.elapsed, j.metadata['stdout'].split(\"\\n\")[-1]"
     ],
     "language": "python",
     "metadata": {},
     "outputs": []
    },
    {
     "cell_type": "code",
     "collapsed": false,
     "input": [],
     "language": "python",
     "metadata": {},
     "outputs": []
    }
   ],
   "metadata": {}
  }
 ]
}